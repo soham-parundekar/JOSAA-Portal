{
 "cells": [
  {
   "cell_type": "code",
   "execution_count": 1,
   "id": "188afa2b",
   "metadata": {},
   "outputs": [],
   "source": [
    "from bs4 import BeautifulSoup\n",
    "import requests as rt\n",
    "import pandas as pd"
   ]
  },
  {
   "cell_type": "code",
   "execution_count": 2,
   "id": "6a30d2c1",
   "metadata": {},
   "outputs": [],
   "source": [
    "url = 'https://josaa.admissions.nic.in/seatinfo/root/seatmatrixinfo.aspx'\n",
    "params = {\n",
    "    #\"ctl00$ContentPlaceHolder1$ddlroundno\": \n",
    "    \"ctl00$ContentPlaceHolder1$ddlInstype\": \"0\",\n",
    "    \"ctl00$ContentPlaceHolder1$ddlInstitute\": \"0\",\n",
    "    \"ctl00$ContentPlaceHolder1$ddlBranch\": \"0\",\n",
    "    \"ctl00$ContentPlaceHolder1$btnSubmit\": \"Submit\"\n",
    "}"
   ]
  },
  {
   "cell_type": "code",
   "execution_count": 3,
   "id": "4f4a1e45",
   "metadata": {},
   "outputs": [],
   "source": [
    "def scrape(Year):   \n",
    "    with rt.Session() as s:\n",
    "        R = s.get(url)\n",
    "        data = {}\n",
    "\n",
    "        #data.update({tag['name']: tag['value'] for tag in BeautifulSoup(R.content, 'lxml').select('input[name^=__]')})\n",
    "        #data[\"ctl00$ContentPlaceHolder1$ddlYear\"] = Year\n",
    "        #R = s.post(url, data=data)\n",
    "\n",
    "        #data.update({tag['name']: tag['value'] for tag in BeautifulSoup(R.content, 'lxml').select('input[name^=__]')})\n",
    "        #data[\"ctl00$ContentPlaceHolder1$ddlroundno\"] = Round\n",
    "        #R = s.post(url, data=data)\n",
    "\n",
    "        for key, value in params.items():\n",
    "            data.update({tag['name']: tag['value'] for tag in BeautifulSoup(R.content, 'lxml').select('input[name^=__]')})\n",
    "            data[key] = value\n",
    "            R = s.post(url, data=data)\n",
    "        #print(R.text)\n",
    "        #print(data)\n",
    "\n",
    "    table = BeautifulSoup(R.text, 'lxml').find(id = 'GridView1')\n",
    "    #print(table)\n",
    "    df = pd.read_html(table.prettify())[0]\n",
    "    df.dropna(inplace = True, how=\"all\")\n",
    "    \n",
    "    df['Year'] = Year\n",
    "    #df['Round'] = Round\n",
    "    #df['Opening Rank'] = df['Opening Rank'].astype(int)\n",
    "    #df['Closing Rank'] = df['Closing Rank'].astype(int)\n",
    "    \n",
    "    return df"
   ]
  },
  {
   "cell_type": "code",
   "execution_count": null,
   "id": "634d7a22",
   "metadata": {},
   "outputs": [],
   "source": [
    "df = scrape('2022')\n",
    "df"
   ]
  },
  {
   "cell_type": "code",
   "execution_count": 5,
   "id": "90c47cf9",
   "metadata": {},
   "outputs": [
    {
     "data": {
      "text/plain": [
       "Index(['Institute Name', 'Program Name', 'State/All India Seats', 'Seat Pool',\n",
       "       'OPEN', 'OPEN-PwD', 'GEN-EWS', 'GEN-EWS-PwD', 'SC', 'SC-PwD', 'ST',\n",
       "       'ST-PwD', 'OBC-NCL', 'OBC-NCL-PwD',\n",
       "       'Total(includes Female Supernumerary)',\n",
       "       'Program-Total  Seat Capacity  Female Supernumerary', 'Year'],\n",
       "      dtype='object')"
      ]
     },
     "execution_count": 5,
     "metadata": {},
     "output_type": "execute_result"
    }
   ],
   "source": [
    "df.columns"
   ]
  },
  {
   "cell_type": "code",
   "execution_count": 6,
   "id": "502057dc",
   "metadata": {},
   "outputs": [
    {
     "ename": "NameError",
     "evalue": "name 'Index' is not defined",
     "output_type": "error",
     "traceback": [
      "\u001b[0;31m---------------------------------------------------------------------------\u001b[0m",
      "\u001b[0;31mNameError\u001b[0m                                 Traceback (most recent call last)",
      "Cell \u001b[0;32mIn[6], line 1\u001b[0m\n\u001b[0;32m----> 1\u001b[0m \u001b[43mIndex\u001b[49m([\u001b[38;5;124m'\u001b[39m\u001b[38;5;124mInstitute\u001b[39m\u001b[38;5;124m'\u001b[39m, \u001b[38;5;124m'\u001b[39m\u001b[38;5;124mAcademic Program Name\u001b[39m\u001b[38;5;124m'\u001b[39m, \u001b[38;5;124m'\u001b[39m\u001b[38;5;124mQuota\u001b[39m\u001b[38;5;124m'\u001b[39m, \u001b[38;5;124m'\u001b[39m\u001b[38;5;124mSeat Type\u001b[39m\u001b[38;5;124m'\u001b[39m, \u001b[38;5;124m'\u001b[39m\u001b[38;5;124mGender\u001b[39m\u001b[38;5;124m'\u001b[39m,\n\u001b[1;32m      2\u001b[0m        \u001b[38;5;124m'\u001b[39m\u001b[38;5;124mOpening Rank\u001b[39m\u001b[38;5;124m'\u001b[39m, \u001b[38;5;124m'\u001b[39m\u001b[38;5;124mClosing Rank\u001b[39m\u001b[38;5;124m'\u001b[39m, \u001b[38;5;124m'\u001b[39m\u001b[38;5;124mYear\u001b[39m\u001b[38;5;124m'\u001b[39m, \u001b[38;5;124m'\u001b[39m\u001b[38;5;124mRound\u001b[39m\u001b[38;5;124m'\u001b[39m],\n\u001b[1;32m      3\u001b[0m       dtype\u001b[38;5;241m=\u001b[39m\u001b[38;5;124m'\u001b[39m\u001b[38;5;124mobject\u001b[39m\u001b[38;5;124m'\u001b[39m)\n",
      "\u001b[0;31mNameError\u001b[0m: name 'Index' is not defined"
     ]
    }
   ],
   "source": [
    "Index(['Institute', 'Academic Program Name', 'Quota', 'Seat Type', 'Gender',\n",
    "       'Opening Rank', 'Closing Rank', 'Year', 'Round'],\n",
    "      dtype='object')"
   ]
  },
  {
   "cell_type": "code",
   "execution_count": null,
   "id": "59ce8037",
   "metadata": {},
   "outputs": [],
   "source": [
    "common colums = ['Institute', 'Program Name', 'Quota', 'Seat Type']"
   ]
  }
 ],
 "metadata": {
  "kernelspec": {
   "display_name": "Python 3 (ipykernel)",
   "language": "python",
   "name": "python3"
  },
  "language_info": {
   "codemirror_mode": {
    "name": "ipython",
    "version": 3
   },
   "file_extension": ".py",
   "mimetype": "text/x-python",
   "name": "python",
   "nbconvert_exporter": "python",
   "pygments_lexer": "ipython3",
   "version": "3.10.9"
  }
 },
 "nbformat": 4,
 "nbformat_minor": 5
}
